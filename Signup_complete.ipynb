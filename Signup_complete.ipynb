{
 "cells": [
  {
   "cell_type": "code",
   "execution_count": 9,
   "metadata": {},
   "outputs": [],
   "source": [
    "import boto3\n",
    "import botocore.exceptions\n",
    "import hmac\n",
    "import hashlib\n",
    "import base64\n",
    "import json"
   ]
  },
  {
   "cell_type": "markdown",
   "metadata": {},
   "source": [
    "# Credentials"
   ]
  },
  {
   "cell_type": "code",
   "execution_count": 30,
   "metadata": {},
   "outputs": [],
   "source": [
    "USER_POOL_ID = ''\n",
    "CLIENT_ID = ''\n",
    "CLIENT_SECRET = ''\n",
    "name=''#user name\n",
    "password=''#Upper characters with minimum length of 8 characters and symbols required\n",
    "username=''# same as email\n",
    "email=''"
   ]
  },
  {
   "cell_type": "code",
   "execution_count": 31,
   "metadata": {},
   "outputs": [],
   "source": [
    "client = boto3.client('cognito-idp')"
   ]
  },
  {
   "cell_type": "code",
   "execution_count": 32,
   "metadata": {},
   "outputs": [],
   "source": [
    "def get_secret_hash(username):\n",
    "    msg = username + CLIENT_ID\n",
    "    dig = hmac.new(str(CLIENT_SECRET).encode('utf-8'), \n",
    "        msg = str(msg).encode('utf-8'), digestmod=hashlib.sha256).digest()\n",
    "    d2 = base64.b64encode(dig).decode()\n",
    "    return d2\n"
   ]
  },
  {
   "cell_type": "markdown",
   "metadata": {},
   "source": [
    "# User Sign Up"
   ]
  },
  {
   "cell_type": "code",
   "execution_count": 33,
   "metadata": {},
   "outputs": [
    {
     "name": "stdout",
     "output_type": "stream",
     "text": [
      "{'UserConfirmed': False, 'CodeDeliveryDetails': {'Destination': 'a***@g***.com', 'DeliveryMedium': 'EMAIL', 'AttributeName': 'email'}, 'UserSub': 'b42f019c-e7c8-436e-b9ca-9a8d3b549d42', 'ResponseMetadata': {'RequestId': '7919ce86-b6d1-43ad-a91c-100025b01061', 'HTTPStatusCode': 200, 'HTTPHeaders': {'date': 'Sun, 13 Dec 2020 01:37:36 GMT', 'content-type': 'application/x-amz-json-1.1', 'content-length': '175', 'connection': 'keep-alive', 'x-amzn-requestid': '7919ce86-b6d1-43ad-a91c-100025b01061'}, 'RetryAttempts': 0}}\n"
     ]
    }
   ],
   "source": [
    "resp = client.sign_up(\n",
    "            ClientId=CLIENT_ID,\n",
    "            SecretHash=get_secret_hash(username),\n",
    "            Username=username,\n",
    "            Password=password, \n",
    "            UserAttributes=[\n",
    "            {\n",
    "                'Name': \"name\",\n",
    "                'Value': name\n",
    "            },\n",
    "            {\n",
    "                'Name': \"email\",\n",
    "                'Value': email\n",
    "            }\n",
    "            ],\n",
    "            ValidationData=[\n",
    "                {\n",
    "                'Name': \"email\",\n",
    "                'Value': email\n",
    "            },\n",
    "            {\n",
    "                'Name': \"custom:username\",\n",
    "                'Value': username\n",
    "            }\n",
    "])\n",
    "print(resp)"
   ]
  },
  {
   "cell_type": "code",
   "execution_count": 38,
   "metadata": {},
   "outputs": [],
   "source": [
    "code='876077'"
   ]
  },
  {
   "cell_type": "markdown",
   "metadata": {},
   "source": [
    "# Confirm Sign Up"
   ]
  },
  {
   "cell_type": "code",
   "execution_count": 42,
   "metadata": {},
   "outputs": [
    {
     "ename": "CodeMismatchException",
     "evalue": "An error occurred (CodeMismatchException) when calling the ConfirmSignUp operation: Invalid verification code provided, please try again.",
     "output_type": "error",
     "traceback": [
      "\u001b[1;31m---------------------------------------------------------------------------\u001b[0m",
      "\u001b[1;31mCodeMismatchException\u001b[0m                     Traceback (most recent call last)",
      "\u001b[1;32m<ipython-input-42-57987c3e0a3c>\u001b[0m in \u001b[0;36m<module>\u001b[1;34m\u001b[0m\n\u001b[0;32m      4\u001b[0m         \u001b[0mUsername\u001b[0m\u001b[1;33m=\u001b[0m\u001b[0musername\u001b[0m\u001b[1;33m,\u001b[0m\u001b[1;33m\u001b[0m\u001b[1;33m\u001b[0m\u001b[0m\n\u001b[0;32m      5\u001b[0m         \u001b[0mConfirmationCode\u001b[0m\u001b[1;33m=\u001b[0m\u001b[0mcode\u001b[0m\u001b[1;33m,\u001b[0m\u001b[1;33m\u001b[0m\u001b[1;33m\u001b[0m\u001b[0m\n\u001b[1;32m----> 6\u001b[1;33m         \u001b[0mForceAliasCreation\u001b[0m\u001b[1;33m=\u001b[0m\u001b[1;32mFalse\u001b[0m\u001b[1;33m\u001b[0m\u001b[1;33m\u001b[0m\u001b[0m\n\u001b[0m\u001b[0;32m      7\u001b[0m        )\n\u001b[0;32m      8\u001b[0m \u001b[1;33m\u001b[0m\u001b[0m\n",
      "\u001b[1;32mc:\\users\\adity\\appdata\\local\\programs\\python\\python37\\lib\\site-packages\\botocore\\client.py\u001b[0m in \u001b[0;36m_api_call\u001b[1;34m(self, *args, **kwargs)\u001b[0m\n\u001b[0;32m    355\u001b[0m                     \"%s() only accepts keyword arguments.\" % py_operation_name)\n\u001b[0;32m    356\u001b[0m             \u001b[1;31m# The \"self\" in this scope is referring to the BaseClient.\u001b[0m\u001b[1;33m\u001b[0m\u001b[1;33m\u001b[0m\u001b[1;33m\u001b[0m\u001b[0m\n\u001b[1;32m--> 357\u001b[1;33m             \u001b[1;32mreturn\u001b[0m \u001b[0mself\u001b[0m\u001b[1;33m.\u001b[0m\u001b[0m_make_api_call\u001b[0m\u001b[1;33m(\u001b[0m\u001b[0moperation_name\u001b[0m\u001b[1;33m,\u001b[0m \u001b[0mkwargs\u001b[0m\u001b[1;33m)\u001b[0m\u001b[1;33m\u001b[0m\u001b[1;33m\u001b[0m\u001b[0m\n\u001b[0m\u001b[0;32m    358\u001b[0m \u001b[1;33m\u001b[0m\u001b[0m\n\u001b[0;32m    359\u001b[0m         \u001b[0m_api_call\u001b[0m\u001b[1;33m.\u001b[0m\u001b[0m__name__\u001b[0m \u001b[1;33m=\u001b[0m \u001b[0mstr\u001b[0m\u001b[1;33m(\u001b[0m\u001b[0mpy_operation_name\u001b[0m\u001b[1;33m)\u001b[0m\u001b[1;33m\u001b[0m\u001b[1;33m\u001b[0m\u001b[0m\n",
      "\u001b[1;32mc:\\users\\adity\\appdata\\local\\programs\\python\\python37\\lib\\site-packages\\botocore\\client.py\u001b[0m in \u001b[0;36m_make_api_call\u001b[1;34m(self, operation_name, api_params)\u001b[0m\n\u001b[0;32m    674\u001b[0m             \u001b[0merror_code\u001b[0m \u001b[1;33m=\u001b[0m \u001b[0mparsed_response\u001b[0m\u001b[1;33m.\u001b[0m\u001b[0mget\u001b[0m\u001b[1;33m(\u001b[0m\u001b[1;34m\"Error\"\u001b[0m\u001b[1;33m,\u001b[0m \u001b[1;33m{\u001b[0m\u001b[1;33m}\u001b[0m\u001b[1;33m)\u001b[0m\u001b[1;33m.\u001b[0m\u001b[0mget\u001b[0m\u001b[1;33m(\u001b[0m\u001b[1;34m\"Code\"\u001b[0m\u001b[1;33m)\u001b[0m\u001b[1;33m\u001b[0m\u001b[1;33m\u001b[0m\u001b[0m\n\u001b[0;32m    675\u001b[0m             \u001b[0merror_class\u001b[0m \u001b[1;33m=\u001b[0m \u001b[0mself\u001b[0m\u001b[1;33m.\u001b[0m\u001b[0mexceptions\u001b[0m\u001b[1;33m.\u001b[0m\u001b[0mfrom_code\u001b[0m\u001b[1;33m(\u001b[0m\u001b[0merror_code\u001b[0m\u001b[1;33m)\u001b[0m\u001b[1;33m\u001b[0m\u001b[1;33m\u001b[0m\u001b[0m\n\u001b[1;32m--> 676\u001b[1;33m             \u001b[1;32mraise\u001b[0m \u001b[0merror_class\u001b[0m\u001b[1;33m(\u001b[0m\u001b[0mparsed_response\u001b[0m\u001b[1;33m,\u001b[0m \u001b[0moperation_name\u001b[0m\u001b[1;33m)\u001b[0m\u001b[1;33m\u001b[0m\u001b[1;33m\u001b[0m\u001b[0m\n\u001b[0m\u001b[0;32m    677\u001b[0m         \u001b[1;32melse\u001b[0m\u001b[1;33m:\u001b[0m\u001b[1;33m\u001b[0m\u001b[1;33m\u001b[0m\u001b[0m\n\u001b[0;32m    678\u001b[0m             \u001b[1;32mreturn\u001b[0m \u001b[0mparsed_response\u001b[0m\u001b[1;33m\u001b[0m\u001b[1;33m\u001b[0m\u001b[0m\n",
      "\u001b[1;31mCodeMismatchException\u001b[0m: An error occurred (CodeMismatchException) when calling the ConfirmSignUp operation: Invalid verification code provided, please try again."
     ]
    }
   ],
   "source": [
    "response = client.confirm_sign_up(\n",
    "        ClientId=CLIENT_ID,\n",
    "        SecretHash=get_secret_hash(username),\n",
    "        Username=username,\n",
    "        ConfirmationCode=code,\n",
    "        ForceAliasCreation=False\n",
    "       )\n",
    "\n",
    "print(resp)"
   ]
  },
  {
   "cell_type": "markdown",
   "metadata": {},
   "source": [
    "# Resend Confirmation Code"
   ]
  },
  {
   "cell_type": "code",
   "execution_count": 40,
   "metadata": {},
   "outputs": [
    {
     "name": "stdout",
     "output_type": "stream",
     "text": [
      "{'UserConfirmed': False, 'CodeDeliveryDetails': {'Destination': 'a***@g***.com', 'DeliveryMedium': 'EMAIL', 'AttributeName': 'email'}, 'UserSub': 'b42f019c-e7c8-436e-b9ca-9a8d3b549d42', 'ResponseMetadata': {'RequestId': '7919ce86-b6d1-43ad-a91c-100025b01061', 'HTTPStatusCode': 200, 'HTTPHeaders': {'date': 'Sun, 13 Dec 2020 01:37:36 GMT', 'content-type': 'application/x-amz-json-1.1', 'content-length': '175', 'connection': 'keep-alive', 'x-amzn-requestid': '7919ce86-b6d1-43ad-a91c-100025b01061'}, 'RetryAttempts': 0}}\n"
     ]
    }
   ],
   "source": [
    "response = client.resend_confirmation_code(\n",
    "        ClientId=CLIENT_ID,\n",
    "        SecretHash=get_secret_hash(username),\n",
    "        Username=username,\n",
    "    )\n",
    "\n",
    "print(resp)"
   ]
  },
  {
   "cell_type": "markdown",
   "metadata": {},
   "source": [
    "# Forgot Password "
   ]
  },
  {
   "cell_type": "code",
   "execution_count": 41,
   "metadata": {},
   "outputs": [
    {
     "name": "stdout",
     "output_type": "stream",
     "text": [
      "{'UserConfirmed': False, 'CodeDeliveryDetails': {'Destination': 'a***@g***.com', 'DeliveryMedium': 'EMAIL', 'AttributeName': 'email'}, 'UserSub': 'b42f019c-e7c8-436e-b9ca-9a8d3b549d42', 'ResponseMetadata': {'RequestId': '7919ce86-b6d1-43ad-a91c-100025b01061', 'HTTPStatusCode': 200, 'HTTPHeaders': {'date': 'Sun, 13 Dec 2020 01:37:36 GMT', 'content-type': 'application/x-amz-json-1.1', 'content-length': '175', 'connection': 'keep-alive', 'x-amzn-requestid': '7919ce86-b6d1-43ad-a91c-100025b01061'}, 'RetryAttempts': 0}}\n"
     ]
    }
   ],
   "source": [
    " response = client.forgot_password(\n",
    "            ClientId=CLIENT_ID,\n",
    "            SecretHash=get_secret_hash(username),\n",
    "            Username=username,\n",
    " )\n",
    "    \n",
    "print(resp)"
   ]
  }
 ],
 "metadata": {
  "kernelspec": {
   "display_name": "Python 3",
   "language": "python",
   "name": "python3"
  },
  "language_info": {
   "codemirror_mode": {
    "name": "ipython",
    "version": 3
   },
   "file_extension": ".py",
   "mimetype": "text/x-python",
   "name": "python",
   "nbconvert_exporter": "python",
   "pygments_lexer": "ipython3",
   "version": "3.7.9"
  }
 },
 "nbformat": 4,
 "nbformat_minor": 4
}
